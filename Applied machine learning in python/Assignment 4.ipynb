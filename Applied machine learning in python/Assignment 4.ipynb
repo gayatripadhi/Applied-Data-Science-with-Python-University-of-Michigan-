{
 "cells": [
  {
   "cell_type": "markdown",
   "metadata": {},
   "source": [
    "---\n",
    "\n",
    "_You are currently looking at **version 1.1** of this notebook. To download notebooks and datafiles, as well as get help on Jupyter notebooks in the Coursera platform, visit the [Jupyter Notebook FAQ](https://www.coursera.org/learn/python-machine-learning/resources/bANLa) course resource._\n",
    "\n",
    "---"
   ]
  },
  {
   "cell_type": "markdown",
   "metadata": {},
   "source": [
    "predict whether a given blight ticket will be paid on time.  \n",
    "Each row in these two files corresponds to a single blight ticket, and includes information about when, why, and to whom each ticket was issued  \n",
    "The target variable is compliance, which is True if the ticket was paid early, on time, or within one month of the hearing data, False if the ticket was paid after the hearing date or not at all, and Null if the violator was found not responsible  \n",
    "All tickets where the violators were found not responsible are not considered during evaluation (drop nan values)"
   ]
  },
  {
   "cell_type": "markdown",
   "metadata": {},
   "source": [
    "## Assignment 4 - Understanding and Predicting Property Maintenance Fines\n",
    "\n",
    "This assignment is based on a data challenge from the Michigan Data Science Team ([MDST](http://midas.umich.edu/mdst/)). \n",
    "\n",
    "The Michigan Data Science Team ([MDST](http://midas.umich.edu/mdst/)) and the Michigan Student Symposium for Interdisciplinary Statistical Sciences ([MSSISS](https://sites.lsa.umich.edu/mssiss/)) have partnered with the City of Detroit to help solve one of the most pressing problems facing Detroit - blight. [Blight violations](http://www.detroitmi.gov/How-Do-I/Report/Blight-Complaint-FAQs) are issued by the city to individuals who allow their properties to remain in a deteriorated condition. Every year, the city of Detroit issues millions of dollars in fines to residents and every year, many of these fines remain unpaid. Enforcing unpaid blight fines is a costly and tedious process, so the city wants to know: how can we increase blight ticket compliance?\n",
    "\n",
    "The first step in answering this question is understanding when and why a resident might fail to comply with a blight ticket. This is where predictive modeling comes in. For this assignment, your task is to predict whether a given blight ticket will be paid on time.\n",
    "\n",
    "All data for this assignment has been provided to us through the [Detroit Open Data Portal](https://data.detroitmi.gov/). **Only the data already included in your Coursera directory can be used for training the model for this assignment.** Nonetheless, we encourage you to look into data from other Detroit datasets to help inform feature creation and model selection. We recommend taking a look at the following related datasets:\n",
    "\n",
    "* [Building Permits](https://data.detroitmi.gov/Property-Parcels/Building-Permits/xw2a-a7tf)\n",
    "* [Trades Permits](https://data.detroitmi.gov/Property-Parcels/Trades-Permits/635b-dsgv)\n",
    "* [Improve Detroit: Submitted Issues](https://data.detroitmi.gov/Government/Improve-Detroit-Submitted-Issues/fwz3-w3yn)\n",
    "* [DPD: Citizen Complaints](https://data.detroitmi.gov/Public-Safety/DPD-Citizen-Complaints-2016/kahe-efs3)\n",
    "* [Parcel Map](https://data.detroitmi.gov/Property-Parcels/Parcel-Map/fxkw-udwf)\n",
    "\n",
    "___\n",
    "\n",
    "We provide you with two data files for use in training and validating your models: train.csv and test.csv. Each row in these two files corresponds to a single blight ticket, and includes information about when, why, and to whom each ticket was issued. The target variable is compliance, which is True if the ticket was paid early, on time, or within one month of the hearing data, False if the ticket was paid after the hearing date or not at all, and Null if the violator was found not responsible. Compliance, as well as a handful of other variables that will not be available at test-time, are only included in train.csv.\n",
    "\n",
    "Note: All tickets where the violators were found not responsible are not considered during evaluation. They are included in the training set as an additional source of data for visualization, and to enable unsupervised and semi-supervised approaches. However, they are not included in the test set.\n",
    "\n",
    "<br>\n",
    "\n",
    "**File descriptions** (Use only this data for training your model!)\n",
    "\n",
    "    readonly/train.csv - the training set (all tickets issued 2004-2011)\n",
    "    readonly/test.csv - the test set (all tickets issued 2012-2016)\n",
    "    readonly/addresses.csv & readonly/latlons.csv - mapping from ticket id to addresses, and from addresses to lat/lon coordinates. \n",
    "     Note: misspelled addresses may be incorrectly geolocated.\n",
    "\n",
    "<br>\n",
    "\n",
    "**Data fields**\n",
    "\n",
    "train.csv & test.csv\n",
    "\n",
    "    ticket_id - unique identifier for tickets\n",
    "    agency_name - Agency that issued the ticket\n",
    "    inspector_name - Name of inspector that issued the ticket\n",
    "    violator_name - Name of the person/organization that the ticket was issued to\n",
    "    violation_street_number, violation_street_name, violation_zip_code - Address where the violation occurred\n",
    "    mailing_address_str_number, mailing_address_str_name, city, state, zip_code, non_us_str_code, country - Mailing address of the violator\n",
    "    ticket_issued_date - Date and time the ticket was issued\n",
    "    hearing_date - Date and time the violator's hearing was scheduled\n",
    "    violation_code, violation_description - Type of violation\n",
    "    disposition - Judgment and judgement type\n",
    "    fine_amount - Violation fine amount, excluding fees\n",
    "    admin_fee - $20 fee assigned to responsible judgments\n",
    "state_fee - $10 fee assigned to responsible judgments\n",
    "    late_fee - 10% fee assigned to responsible judgments\n",
    "    discount_amount - discount applied, if any\n",
    "    clean_up_cost - DPW clean-up or graffiti removal cost\n",
    "    judgment_amount - Sum of all fines and fees\n",
    "    grafitti_status - Flag for graffiti violations\n",
    "    \n",
    "train.csv only\n",
    "\n",
    "    payment_amount - Amount paid, if any\n",
    "    payment_date - Date payment was made, if it was received\n",
    "    payment_status - Current payment status as of Feb 1 2017\n",
    "    balance_due - Fines and fees still owed\n",
    "    collection_status - Flag for payments in collections\n",
    "    compliance [target variable for prediction] \n",
    "     Null = Not responsible\n",
    "     0 = Responsible, non-compliant\n",
    "     1 = Responsible, compliant\n",
    "    compliance_detail - More information on why each ticket was marked compliant or non-compliant\n",
    "\n",
    "\n",
    "___\n",
    "\n",
    "## Evaluation\n",
    "\n",
    "Your predictions will be given as the probability that the corresponding blight ticket will be paid on time.\n",
    "\n",
    "The evaluation metric for this assignment is the Area Under the ROC Curve (AUC). \n",
    "\n",
    "Your grade will be based on the AUC score computed for your classifier. A model which with an AUROC of 0.7 passes this assignment, over 0.75 will recieve full points.\n",
    "___\n",
    "\n",
    "For this assignment, create a function that trains a model to predict blight ticket compliance in Detroit using `readonly/train.csv`. Using this model, return a series of length 61001 with the data being the probability that each corresponding ticket from `readonly/test.csv` will be paid, and the index being the ticket_id.\n",
    "\n",
    "Example:\n",
    "\n",
    "    ticket_id\n",
    "       284932    0.531842\n",
    "       285362    0.401958\n",
    "       285361    0.105928\n",
    "       285338    0.018572\n",
    "                 ...\n",
    "       376499    0.208567\n",
    "       376500    0.818759\n",
    "       369851    0.018528\n",
    "       Name: compliance, dtype: float32\n",
    "       \n",
    "### Hints\n",
    "\n",
    "* Make sure your code is working before submitting it to the autograder.\n",
    "\n",
    "* Print out your result to see whether there is anything weird (e.g., all probabilities are the same).\n",
    "\n",
    "* Generally the total runtime should be less than 10 mins. You should NOT use Neural Network related classifiers (e.g., MLPClassifier) in this question. \n",
    "\n",
    "* Try to avoid global variables. If you have other functions besides blight_model, you should move those functions inside the scope of blight_model.\n",
    "\n",
    "* Refer to the pinned threads in Week 4's discussion forum when there is something you could not figure it out."
   ]
  },
  {
   "cell_type": "code",
   "execution_count": null,
   "metadata": {
    "collapsed": true
   },
   "outputs": [],
   "source": [
    "import pandas as pd\n",
    "import numpy as np\n",
    "\n",
    "def blight_model():\n",
    "    from sklearn.ensemble import RandomForestClassifier\n",
    "    # Your code here\n",
    "    def clean_df(df):\n",
    "        \n",
    "        col_to_drop = ['violation_street_number', 'violation_street_name', 'violation_zip_code',\n",
    "                       'address', 'inspector_name', 'violator_name', 'mailing_address_str_number',\n",
    "                       'mailing_address_str_name', 'city', 'state', 'non_us_str_code',\n",
    "                       'ticket_issued_date', 'hearing_date', 'disposition', 'grafitti_status', 'violation_description',\n",
    "                       'violation_code', 'zip_code']\n",
    "        \n",
    "        df = pd.merge(df, addr, how='inner', on='ticket_id')\n",
    "        df = pd.merge(df, latlon, how='inner', on='address')\n",
    "        df.drop(col_to_drop, axis=1, inplace=True)\n",
    "\n",
    "        return df\n",
    "    \n",
    "    col_to_drop_train = ['payment_amount', 'balance_due', 'payment_date', 'payment_status',\n",
    "                         'collection_status', 'compliance_detail']\n",
    "    \n",
    "#     addr = pd.read_csv('readonly/addresses.csv', encoding='mac_roman')\n",
    "#     latlon = pd.read_csv('readonly/latlons.csv', encoding='mac_roman')\n",
    "    addr = pd.read_csv('addresses.csv', encoding='mac_roman')\n",
    "    latlon = pd.read_csv('latlons.csv', encoding='mac_roman')\n",
    "    \n",
    "#     X_train = clean_df(pd.read_csv('readonly/train.csv', encoding='mac_roman'))\n",
    "    X_train = clean_df(pd.read_csv('train.csv', encoding='mac_roman'))\n",
    "    X_train.drop(col_to_drop_train, axis=1, inplace=True)\n",
    "    X_train.dropna(inplace=True)\n",
    "    y_train = X_train['compliance']\n",
    "    X_train.drop('compliance', axis=1, inplace=True)\n",
    "#     real_test = clean_df(pd.read_csv('readonly/test.csv', encoding='mac_roman'))\n",
    "    real_test = clean_df(pd.read_csv('test.csv', encoding='mac_roman'))\n",
    "#     print(X_train.head())\n",
    "    real_test.fillna(0, inplace=True)\n",
    "\n",
    "    X_train = pd.get_dummies(X_train)\n",
    "    X_train.drop(['agency_name_Health Department', 'agency_name_Neighborhood City Halls',\n",
    "                  'country_Aust', 'country_Cana', 'country_Egyp', 'country_Germ'], axis=1, inplace=True)\n",
    "#     print('Now', X_train.head())\n",
    "    real_test = pd.get_dummies(real_test)\n",
    "    clf = RandomForestClassifier(n_estimators=10, max_depth=5,random_state=0)\n",
    "    clf.fit(X_train,y_train)\n",
    "    res = pd.DataFrame((clf.predict_proba(real_test)[:, 1]), index=real_test['ticket_id']) #.astype(int)\n",
    "    return res# Your answer here"
   ]
  },
  {
   "cell_type": "code",
   "execution_count": null,
   "metadata": {
    "collapsed": true
   },
   "outputs": [],
   "source": [
    "# import pandas as pd"
   ]
  },
  {
   "cell_type": "code",
   "execution_count": 1,
   "metadata": {
    "collapsed": false
   },
   "outputs": [],
   "source": [
    "# !cd .."
   ]
  },
  {
   "cell_type": "code",
   "execution_count": 2,
   "metadata": {
    "collapsed": false
   },
   "outputs": [
    {
     "name": "stdout",
     "output_type": "stream",
     "text": [
      "addresses.csv\t\t\t  latlons.csv\r\n",
      "adspy_shared_utilities.py\t  Module 1.ipynb\r\n",
      "Assignment 1.ipynb\t\t  Module 2.ipynb\r\n",
      "Assignment 2.ipynb\t\t  Module 3.ipynb\r\n",
      "Assignment 3.ipynb\t\t  Module 4.ipynb\r\n",
      "Assignment 4.ipynb\t\t  mushrooms.csv\r\n",
      "Classifier Visualization.ipynb\t  polynomialreg1.png\r\n",
      "CommViolPredUnnormalizedData.txt  test.csv\r\n",
      "fraud_data.csv\t\t\t  train.csv\r\n",
      "fruit_data_with_colors.txt\t  Unsupervised Learning.ipynb\r\n"
     ]
    }
   ],
   "source": [
    "# !ls readonly"
   ]
  },
  {
   "cell_type": "code",
   "execution_count": 37,
   "metadata": {
    "collapsed": false,
    "scrolled": true
   },
   "outputs": [],
   "source": [
    "# traindf = pd.read_csv('readonly/train.csv', encoding = \"ISO-8859-1\")\n",
    "# testdf = pd.read_csv('readonly/test.csv', encoding = \"ISO-8859-1\")\n",
    "# addressesdf = pd.read_csv('readonly/addresses.csv', encoding = \"ISO-8859-1\")\n",
    "# latlonsdf = pd.read_csv('readonly/latlons.csv', encoding = \"ISO-8859-1\")"
   ]
  },
  {
   "cell_type": "code",
   "execution_count": 38,
   "metadata": {
    "collapsed": false
   },
   "outputs": [
    {
     "data": {
      "text/plain": [
       "Index(['ticket_id', 'agency_name', 'inspector_name', 'violator_name',\n",
       "       'violation_street_number', 'violation_street_name',\n",
       "       'violation_zip_code', 'mailing_address_str_number',\n",
       "       'mailing_address_str_name', 'city', 'state', 'zip_code',\n",
       "       'non_us_str_code', 'country', 'ticket_issued_date', 'hearing_date',\n",
       "       'violation_code', 'violation_description', 'disposition', 'fine_amount',\n",
       "       'admin_fee', 'state_fee', 'late_fee', 'discount_amount',\n",
       "       'clean_up_cost', 'judgment_amount', 'grafitti_status'],\n",
       "      dtype='object')"
      ]
     },
     "execution_count": 38,
     "metadata": {},
     "output_type": "execute_result"
    }
   ],
   "source": [
    "# testdf.columns"
   ]
  },
  {
   "cell_type": "code",
   "execution_count": 5,
   "metadata": {
    "collapsed": false
   },
   "outputs": [
    {
     "data": {
      "text/plain": [
       "array([  0.,   1.,  nan])"
      ]
     },
     "execution_count": 5,
     "metadata": {},
     "output_type": "execute_result"
    }
   ],
   "source": [
    "# traindf['compliance'].unique()"
   ]
  },
  {
   "cell_type": "code",
   "execution_count": 6,
   "metadata": {
    "collapsed": true
   },
   "outputs": [],
   "source": [
    "# drop rows with values nan in compliance column\n",
    "# traindf.dropna(subset = ['compliance'],inplace=True)"
   ]
  },
  {
   "cell_type": "code",
   "execution_count": 7,
   "metadata": {
    "collapsed": false
   },
   "outputs": [
    {
     "name": "stdout",
     "output_type": "stream",
     "text": [
      "[ 0.  1.]\n"
     ]
    }
   ],
   "source": [
    "# print(traindf['compliance'].unique())"
   ]
  },
  {
   "cell_type": "code",
   "execution_count": 15,
   "metadata": {
    "collapsed": false
   },
   "outputs": [
    {
     "data": {
      "text/plain": [
       "Index(['ticket_id', 'agency_name', 'inspector_name', 'violator_name',\n",
       "       'violation_street_number', 'violation_street_name',\n",
       "       'violation_zip_code', 'mailing_address_str_number',\n",
       "       'mailing_address_str_name', 'city', 'state', 'zip_code',\n",
       "       'non_us_str_code', 'country', 'ticket_issued_date', 'hearing_date',\n",
       "       'violation_code', 'violation_description', 'disposition', 'fine_amount',\n",
       "       'admin_fee', 'state_fee', 'late_fee', 'discount_amount',\n",
       "       'clean_up_cost', 'judgment_amount', 'payment_amount', 'balance_due',\n",
       "       'payment_date', 'payment_status', 'collection_status',\n",
       "       'grafitti_status', 'compliance_detail', 'compliance', 'address'],\n",
       "      dtype='object')"
      ]
     },
     "execution_count": 15,
     "metadata": {},
     "output_type": "execute_result"
    }
   ],
   "source": [
    "# traindf.columns"
   ]
  },
  {
   "cell_type": "markdown",
   "metadata": {},
   "source": [
    "all these columns are useless  \n",
    "        'address',\n",
    "        'admin_fee',\n",
    "        'agency_name', \n",
    "        'city',\n",
    "        'clean_up_cost',\n",
    "        'disposition',\n",
    "        'fine_amount',\n",
    "        'grafitti_status',\n",
    "        'hearing_date',\n",
    "        'inspector_name', \n",
    "        'late_fee',\n",
    "        'mailing_address_str_name',\n",
    "        'mailing_address_str_number',\n",
    "        'state_fee',\n",
    "        'ticket_issued_date',\n",
    "        'violation_code',\n",
    "        'violation_description',\n",
    "        'violation_street_name',\n",
    "        'violation_street_number',\n",
    "        'violation_zip_code',\n",
    "        'violator_name'"
   ]
  },
  {
   "cell_type": "code",
   "execution_count": 8,
   "metadata": {
    "collapsed": true
   },
   "outputs": [],
   "source": [
    "# traindf['compliance'] =traindf['compliance'].astype(int)"
   ]
  },
  {
   "cell_type": "code",
   "execution_count": 14,
   "metadata": {
    "collapsed": false
   },
   "outputs": [
    {
     "data": {
      "text/html": [
       "<div>\n",
       "<table border=\"1\" class=\"dataframe\">\n",
       "  <thead>\n",
       "    <tr style=\"text-align: right;\">\n",
       "      <th></th>\n",
       "      <th>ticket_id</th>\n",
       "      <th>agency_name</th>\n",
       "      <th>inspector_name</th>\n",
       "      <th>violator_name</th>\n",
       "      <th>violation_street_number</th>\n",
       "      <th>violation_street_name</th>\n",
       "      <th>violation_zip_code</th>\n",
       "      <th>mailing_address_str_number</th>\n",
       "      <th>mailing_address_str_name</th>\n",
       "      <th>city</th>\n",
       "      <th>...</th>\n",
       "      <th>judgment_amount</th>\n",
       "      <th>payment_amount</th>\n",
       "      <th>balance_due</th>\n",
       "      <th>payment_date</th>\n",
       "      <th>payment_status</th>\n",
       "      <th>collection_status</th>\n",
       "      <th>grafitti_status</th>\n",
       "      <th>compliance_detail</th>\n",
       "      <th>compliance</th>\n",
       "      <th>address</th>\n",
       "    </tr>\n",
       "  </thead>\n",
       "  <tbody>\n",
       "    <tr>\n",
       "      <th>0</th>\n",
       "      <td>22056</td>\n",
       "      <td>Buildings, Safety Engineering &amp; Env Department</td>\n",
       "      <td>Sims, Martinzie</td>\n",
       "      <td>INVESTMENT INC., MIDWEST MORTGAGE</td>\n",
       "      <td>2900.0</td>\n",
       "      <td>TYLER</td>\n",
       "      <td>NaN</td>\n",
       "      <td>3.0</td>\n",
       "      <td>S. WICKER</td>\n",
       "      <td>CHICAGO</td>\n",
       "      <td>...</td>\n",
       "      <td>305.0</td>\n",
       "      <td>0.0</td>\n",
       "      <td>305.0</td>\n",
       "      <td>NaN</td>\n",
       "      <td>NO PAYMENT APPLIED</td>\n",
       "      <td>NaN</td>\n",
       "      <td>NaN</td>\n",
       "      <td>non-compliant by no payment</td>\n",
       "      <td>0</td>\n",
       "      <td>2900 tyler, Detroit MI</td>\n",
       "    </tr>\n",
       "    <tr>\n",
       "      <th>1</th>\n",
       "      <td>27586</td>\n",
       "      <td>Buildings, Safety Engineering &amp; Env Department</td>\n",
       "      <td>Williams, Darrin</td>\n",
       "      <td>Michigan, Covenant House</td>\n",
       "      <td>4311.0</td>\n",
       "      <td>CENTRAL</td>\n",
       "      <td>NaN</td>\n",
       "      <td>2959.0</td>\n",
       "      <td>Martin Luther King</td>\n",
       "      <td>Detroit</td>\n",
       "      <td>...</td>\n",
       "      <td>855.0</td>\n",
       "      <td>780.0</td>\n",
       "      <td>75.0</td>\n",
       "      <td>2005-06-02 00:00:00</td>\n",
       "      <td>PAID IN FULL</td>\n",
       "      <td>NaN</td>\n",
       "      <td>NaN</td>\n",
       "      <td>compliant by late payment within 1 month</td>\n",
       "      <td>1</td>\n",
       "      <td>4311 central, Detroit MI</td>\n",
       "    </tr>\n",
       "    <tr>\n",
       "      <th>2</th>\n",
       "      <td>22046</td>\n",
       "      <td>Buildings, Safety Engineering &amp; Env Department</td>\n",
       "      <td>Sims, Martinzie</td>\n",
       "      <td>KASIMU, UKWELI</td>\n",
       "      <td>6478.0</td>\n",
       "      <td>NORTHFIELD</td>\n",
       "      <td>NaN</td>\n",
       "      <td>2755.0</td>\n",
       "      <td>E. 17TH</td>\n",
       "      <td>LOG BEACH</td>\n",
       "      <td>...</td>\n",
       "      <td>305.0</td>\n",
       "      <td>0.0</td>\n",
       "      <td>305.0</td>\n",
       "      <td>NaN</td>\n",
       "      <td>NO PAYMENT APPLIED</td>\n",
       "      <td>NaN</td>\n",
       "      <td>NaN</td>\n",
       "      <td>non-compliant by no payment</td>\n",
       "      <td>0</td>\n",
       "      <td>6478 northfield, Detroit MI</td>\n",
       "    </tr>\n",
       "    <tr>\n",
       "      <th>3</th>\n",
       "      <td>18738</td>\n",
       "      <td>Buildings, Safety Engineering &amp; Env Department</td>\n",
       "      <td>Williams, Darrin</td>\n",
       "      <td>Deerwood Development Group Inc, Deer</td>\n",
       "      <td>8027.0</td>\n",
       "      <td>BRENTWOOD</td>\n",
       "      <td>NaN</td>\n",
       "      <td>476.0</td>\n",
       "      <td>Garfield</td>\n",
       "      <td>Clinton</td>\n",
       "      <td>...</td>\n",
       "      <td>855.0</td>\n",
       "      <td>0.0</td>\n",
       "      <td>855.0</td>\n",
       "      <td>NaN</td>\n",
       "      <td>NO PAYMENT APPLIED</td>\n",
       "      <td>NaN</td>\n",
       "      <td>NaN</td>\n",
       "      <td>non-compliant by no payment</td>\n",
       "      <td>0</td>\n",
       "      <td>8027 brentwood, Detroit MI</td>\n",
       "    </tr>\n",
       "    <tr>\n",
       "      <th>4</th>\n",
       "      <td>18735</td>\n",
       "      <td>Buildings, Safety Engineering &amp; Env Department</td>\n",
       "      <td>Williams, Darrin</td>\n",
       "      <td>Rafee Auto Services L.L.C., RAF</td>\n",
       "      <td>8228.0</td>\n",
       "      <td>MT ELLIOTT</td>\n",
       "      <td>NaN</td>\n",
       "      <td>8228.0</td>\n",
       "      <td>Mt. Elliott</td>\n",
       "      <td>Detroit</td>\n",
       "      <td>...</td>\n",
       "      <td>140.0</td>\n",
       "      <td>0.0</td>\n",
       "      <td>140.0</td>\n",
       "      <td>NaN</td>\n",
       "      <td>NO PAYMENT APPLIED</td>\n",
       "      <td>NaN</td>\n",
       "      <td>NaN</td>\n",
       "      <td>non-compliant by no payment</td>\n",
       "      <td>0</td>\n",
       "      <td>8228 mt elliott, Detroit MI</td>\n",
       "    </tr>\n",
       "  </tbody>\n",
       "</table>\n",
       "<p>5 rows × 35 columns</p>\n",
       "</div>"
      ],
      "text/plain": [
       "   ticket_id                                     agency_name  \\\n",
       "0      22056  Buildings, Safety Engineering & Env Department   \n",
       "1      27586  Buildings, Safety Engineering & Env Department   \n",
       "2      22046  Buildings, Safety Engineering & Env Department   \n",
       "3      18738  Buildings, Safety Engineering & Env Department   \n",
       "4      18735  Buildings, Safety Engineering & Env Department   \n",
       "\n",
       "     inspector_name                         violator_name  \\\n",
       "0   Sims, Martinzie     INVESTMENT INC., MIDWEST MORTGAGE   \n",
       "1  Williams, Darrin              Michigan, Covenant House   \n",
       "2   Sims, Martinzie                        KASIMU, UKWELI   \n",
       "3  Williams, Darrin  Deerwood Development Group Inc, Deer   \n",
       "4  Williams, Darrin       Rafee Auto Services L.L.C., RAF   \n",
       "\n",
       "   violation_street_number violation_street_name  violation_zip_code  \\\n",
       "0                   2900.0                 TYLER                 NaN   \n",
       "1                   4311.0               CENTRAL                 NaN   \n",
       "2                   6478.0            NORTHFIELD                 NaN   \n",
       "3                   8027.0             BRENTWOOD                 NaN   \n",
       "4                   8228.0            MT ELLIOTT                 NaN   \n",
       "\n",
       "   mailing_address_str_number mailing_address_str_name       city  \\\n",
       "0                         3.0                S. WICKER    CHICAGO   \n",
       "1                      2959.0       Martin Luther King    Detroit   \n",
       "2                      2755.0                  E. 17TH  LOG BEACH   \n",
       "3                       476.0                 Garfield    Clinton   \n",
       "4                      8228.0              Mt. Elliott    Detroit   \n",
       "\n",
       "              ...              judgment_amount payment_amount balance_due  \\\n",
       "0             ...                        305.0            0.0       305.0   \n",
       "1             ...                        855.0          780.0        75.0   \n",
       "2             ...                        305.0            0.0       305.0   \n",
       "3             ...                        855.0            0.0       855.0   \n",
       "4             ...                        140.0            0.0       140.0   \n",
       "\n",
       "          payment_date      payment_status collection_status grafitti_status  \\\n",
       "0                  NaN  NO PAYMENT APPLIED               NaN             NaN   \n",
       "1  2005-06-02 00:00:00        PAID IN FULL               NaN             NaN   \n",
       "2                  NaN  NO PAYMENT APPLIED               NaN             NaN   \n",
       "3                  NaN  NO PAYMENT APPLIED               NaN             NaN   \n",
       "4                  NaN  NO PAYMENT APPLIED               NaN             NaN   \n",
       "\n",
       "                          compliance_detail compliance  \\\n",
       "0               non-compliant by no payment          0   \n",
       "1  compliant by late payment within 1 month          1   \n",
       "2               non-compliant by no payment          0   \n",
       "3               non-compliant by no payment          0   \n",
       "4               non-compliant by no payment          0   \n",
       "\n",
       "                       address  \n",
       "0       2900 tyler, Detroit MI  \n",
       "1     4311 central, Detroit MI  \n",
       "2  6478 northfield, Detroit MI  \n",
       "3   8027 brentwood, Detroit MI  \n",
       "4  8228 mt elliott, Detroit MI  \n",
       "\n",
       "[5 rows x 35 columns]"
      ]
     },
     "execution_count": 14,
     "metadata": {},
     "output_type": "execute_result"
    }
   ],
   "source": [
    "# traindf.head()"
   ]
  },
  {
   "cell_type": "code",
   "execution_count": 9,
   "metadata": {
    "collapsed": true
   },
   "outputs": [],
   "source": [
    "# traindf = traindf[traindf.country == 'USA']\n",
    "# testdf = testdf[testdf.country == 'USA']"
   ]
  },
  {
   "cell_type": "code",
   "execution_count": 10,
   "metadata": {
    "collapsed": false
   },
   "outputs": [],
   "source": [
    "# traindf = pd.merge(traindf, addressesdf, how='inner', left_on='ticket_id', right_on='ticket_id')\n",
    "\n",
    "# testdf = pd.merge(testdf, addressesdf, how='inner', left_on='ticket_id', right_on='ticket_id')"
   ]
  },
  {
   "cell_type": "code",
   "execution_count": 11,
   "metadata": {
    "collapsed": false
   },
   "outputs": [],
   "source": [
    "# # dum_df = pd.DataFrame(index=1)\n",
    "# dic ={}\n",
    "# for i in (traindf.columns):\n",
    "# #     dum_df.join\n",
    "#     dic[i] = type(traindf.iloc[0][i])\n",
    "# # pd.DataFrame(dic,index = range(1)).T #len(list(traindf.columns)))"
   ]
  },
  {
   "cell_type": "code",
   "execution_count": 12,
   "metadata": {
    "collapsed": false,
    "scrolled": true
   },
   "outputs": [
    {
     "data": {
      "text/plain": [
       "{'address': str,\n",
       " 'admin_fee': numpy.float64,\n",
       " 'agency_name': str,\n",
       " 'balance_due': numpy.float64,\n",
       " 'city': str,\n",
       " 'clean_up_cost': numpy.float64,\n",
       " 'collection_status': float,\n",
       " 'compliance': numpy.int64,\n",
       " 'compliance_detail': str,\n",
       " 'country': str,\n",
       " 'discount_amount': numpy.float64,\n",
       " 'disposition': str,\n",
       " 'fine_amount': numpy.float64,\n",
       " 'grafitti_status': float,\n",
       " 'hearing_date': str,\n",
       " 'inspector_name': str,\n",
       " 'judgment_amount': numpy.float64,\n",
       " 'late_fee': numpy.float64,\n",
       " 'mailing_address_str_name': str,\n",
       " 'mailing_address_str_number': numpy.float64,\n",
       " 'non_us_str_code': float,\n",
       " 'payment_amount': numpy.float64,\n",
       " 'payment_date': float,\n",
       " 'payment_status': str,\n",
       " 'state': str,\n",
       " 'state_fee': numpy.float64,\n",
       " 'ticket_id': numpy.int64,\n",
       " 'ticket_issued_date': str,\n",
       " 'violation_code': str,\n",
       " 'violation_description': str,\n",
       " 'violation_street_name': str,\n",
       " 'violation_street_number': numpy.float64,\n",
       " 'violation_zip_code': numpy.float64,\n",
       " 'violator_name': str,\n",
       " 'zip_code': int}"
      ]
     },
     "execution_count": 12,
     "metadata": {},
     "output_type": "execute_result"
    }
   ],
   "source": [
    "# dic"
   ]
  },
  {
   "cell_type": "code",
   "execution_count": 13,
   "metadata": {
    "collapsed": false
   },
   "outputs": [],
   "source": [
    "# to_drop = [\n",
    "#         'address',\n",
    "#         'admin_fee',\n",
    "#         'agency_name', \n",
    "#         'city',\n",
    "#         'clean_up_cost',\n",
    "#         'disposition',\n",
    "#         'fine_amount',\n",
    "#         'grafitti_status',\n",
    "#         'hearing_date',\n",
    "#         'inspector_name', \n",
    "#         'late_fee',\n",
    "#         'mailing_address_str_name',\n",
    "#         'mailing_address_str_number',\n",
    "#         'state_fee',\n",
    "#         'ticket_issued_date',\n",
    "#         'violation_code',\n",
    "#         'violation_description',\n",
    "#         'violation_street_name',\n",
    "#         'violation_street_number',\n",
    "#         'violation_zip_code',\n",
    "#         'violator_name'\n",
    "#     ]\n",
    "\n",
    "# train_to_drop = [\n",
    "#     'balance_due', \n",
    "#     'payment_amount',\n",
    "#     'payment_date',\n",
    "#     'payment_status'\n",
    "# ] + to_drop"
   ]
  },
  {
   "cell_type": "code",
   "execution_count": 41,
   "metadata": {
    "collapsed": true
   },
   "outputs": [],
   "source": [
    "from sklearn.model_selection import train_test_split\n",
    "%matplotlib inline"
   ]
  },
  {
   "cell_type": "code",
   "execution_count": 68,
   "metadata": {
    "collapsed": true
   },
   "outputs": [],
   "source": [
    "import pandas as pd\n",
    "import numpy as np\n",
    "import matplotlib.pyplot as plt\n",
    "def blight_model():\n",
    "    from sklearn.ensemble import RandomForestClassifier\n",
    "    from sklearn.model_selection import train_test_split\n",
    "    from sklearn.metrics import roc_curve, auc\n",
    "    # Your code here\n",
    "    def clean_df(df):\n",
    "        \n",
    "        col_to_drop = ['violation_street_number', 'violation_street_name', 'violation_zip_code',\n",
    "                       'address', 'inspector_name', 'violator_name', 'mailing_address_str_number',\n",
    "                       'mailing_address_str_name', 'city', 'state', 'non_us_str_code',\n",
    "                       'ticket_issued_date', 'hearing_date', 'disposition', 'grafitti_status', 'violation_description',\n",
    "                       'violation_code', 'zip_code']\n",
    "        \n",
    "        df = pd.merge(df, addr, how='inner', on='ticket_id')\n",
    "        df = pd.merge(df, latlon, how='inner', on='address')\n",
    "        df.drop(col_to_drop, axis=1, inplace=True)\n",
    "\n",
    "        return df\n",
    "    \n",
    "    col_to_drop_train = ['payment_amount', 'balance_due', 'payment_date', 'payment_status',\n",
    "                         'collection_status', 'compliance_detail']\n",
    "    \n",
    "    addr = pd.read_csv('readonly/addresses.csv', encoding='mac_roman')\n",
    "    latlon = pd.read_csv('readonly/latlons.csv', encoding='mac_roman')\n",
    "#     addr = pd.read_csv('addresses.csv', encoding='mac_roman')\n",
    "#     latlon = pd.read_csv('latlons.csv', encoding='mac_roman')\n",
    "    \n",
    "    X_train = clean_df(pd.read_csv('readonly/train.csv', encoding='mac_roman'))\n",
    "#     X_train = clean_df(pd.read_csv('train.csv', encoding='mac_roman'))\n",
    "    X_train.drop(col_to_drop_train, axis=1, inplace=True)\n",
    "    X_train.dropna(inplace=True)\n",
    "    y_train = X_train['compliance']\n",
    "    X_train.drop('compliance', axis=1, inplace=True)\n",
    "    real_test = clean_df(pd.read_csv('readonly/test.csv', encoding='mac_roman'))\n",
    "#     real_test = clean_df(pd.read_csv('test.csv', encoding='mac_roman'))\n",
    "#     print(X_train.head())\n",
    "    real_test.fillna(0, inplace=True)\n",
    "\n",
    "    X_train = pd.get_dummies(X_train)\n",
    "    X_train.drop(['agency_name_Health Department', 'agency_name_Neighborhood City Halls',\n",
    "                  'country_Aust', 'country_Cana', 'country_Egyp', 'country_Germ'], axis=1, inplace=True)\n",
    "#     print('Now', X_train.head())\n",
    "    real_test = pd.get_dummies(real_test)\n",
    "    X_train,X_test,y_train,y_test = train_test_split(X_train,y_train,test_size=0.2,random_state=10)\n",
    "    clf = RandomForestClassifier(n_estimators=10, max_depth=5,random_state=0)\n",
    "    clf.fit(X_train,y_train)\n",
    "    res = pd.DataFrame((clf.predict_proba(real_test)[:, 1]), index=real_test['ticket_id']) #.astype(int)\n",
    "    proba = clf.predict_proba(X_test)\n",
    "    print(proba[:,1].shape,'ha')\n",
    "    print(y_test.shape,'ytrain')\n",
    "    fpr_lr, tpr_lr, _ = roc_curve(y_test, proba[:,1])\n",
    "    roc_auc_lr = auc(fpr_lr, tpr_lr)\n",
    "    plt.figure()\n",
    "    plt.xlim([-0.01, 1.00])\n",
    "    plt.ylim([-0.01, 1.01])\n",
    "    plt.plot(fpr_lr, tpr_lr, lw=3, label='LogRegr ROC curve (area = {:0.2f})'.format(roc_auc_lr))\n",
    "    plt.xlabel('False Positive Rate', fontsize=16)\n",
    "    plt.ylabel('True Positive Rate', fontsize=16)\n",
    "\n",
    "    return res,roc_auc_lr,fpr_lr, tpr_lr# Your answer here"
   ]
  },
  {
   "cell_type": "code",
   "execution_count": 69,
   "metadata": {
    "collapsed": false,
    "scrolled": false
   },
   "outputs": [
    {
     "name": "stderr",
     "output_type": "stream",
     "text": [
      "/opt/conda/lib/python3.6/site-packages/IPython/core/magic.py:188: DtypeWarning: Columns (11,12,31) have mixed types. Specify dtype option on import or set low_memory=False.\n",
      "  call = lambda f, *a, **k: f(*a, **k)\n"
     ]
    },
    {
     "name": "stdout",
     "output_type": "stream",
     "text": [
      "(31976,) ha\n",
      "(31976,) ytrain\n",
      "CPU times: user 4.52 s, sys: 256 ms, total: 4.77 s\n",
      "Wall time: 9.55 s\n"
     ]
    },
    {
     "data": {
      "image/png": "[encoded data removed]",
      "text/plain": [
       "<matplotlib.figure.Figure at 0x7f6c2fe8b0f0>"
      ]
     },
     "metadata": {},
     "output_type": "display_data"
    }
   ],
   "source": [
    "%%time\n",
    "ya,roc_auc_lr,fpr_lr, tpr_lr = blight_model()"
   ]
  },
  {
   "cell_type": "code",
   "execution_count": 70,
   "metadata": {
    "collapsed": false
   },
   "outputs": [
    {
     "data": {
      "text/plain": [
       "0.77734670685117535"
      ]
     },
     "execution_count": 70,
     "metadata": {},
     "output_type": "execute_result"
    }
   ],
   "source": [
    "roc_auc_lr"
   ]
  },
  {
   "cell_type": "code",
   "execution_count": 67,
   "metadata": {
    "collapsed": false
   },
   "outputs": [
    {
     "data": {
      "text/plain": [
       "<matplotlib.text.Text at 0x7f6c2faca390>"
      ]
     },
     "execution_count": 67,
     "metadata": {},
     "output_type": "execute_result"
    },
    {
     "data": {
      "image/png": "[encoded data removed]",
      "text/plain": [
       "<matplotlib.figure.Figure at 0x7f6c318854a8>"
      ]
     },
     "metadata": {},
     "output_type": "display_data"
    }
   ],
   "source": [
    "plt.figure()\n",
    "plt.xlim([-0.01, 1.00])\n",
    "plt.ylim([-0.01, 1.01])\n",
    "plt.plot(fpr_lr, tpr_lr, lw=3, label='LogRegr ROC curve (area = {:0.2f})'.format(roc_auc_lr))\n",
    "plt.xlabel('False Positive Rate', fontsize=16)\n",
    "plt.ylabel('True Positive Rate', fontsize=16)"
   ]
  },
  {
   "cell_type": "code",
   "execution_count": 33,
   "metadata": {
    "collapsed": false
   },
   "outputs": [
    {
     "data": {
      "text/plain": [
       "0.053458140030491305"
      ]
     },
     "execution_count": 33,
     "metadata": {},
     "output_type": "execute_result"
    }
   ],
   "source": [
    "# ya[0].sum()/ya[0].size"
   ]
  },
  {
   "cell_type": "code",
   "execution_count": null,
   "metadata": {
    "collapsed": true
   },
   "outputs": [],
   "source": []
  }
 ],
 "metadata": {
  "coursera": {
   "course_slug": "python-machine-learning",
   "graded_item_id": "nNS8l",
   "launcher_item_id": "yWWk7",
   "part_id": "w8BSS"
  },
  "kernelspec": {
   "display_name": "Python 3",
   "language": "python",
   "name": "python3"
  },
  "language_info": {
   "codemirror_mode": {
    "name": "ipython",
    "version": 3
   },
   "file_extension": ".py",
   "mimetype": "text/x-python",
   "name": "python",
   "nbconvert_exporter": "python",
   "pygments_lexer": "ipython3",
   "version": "3.6.2"
  }
 },
 "nbformat": 4,
 "nbformat_minor": 2
}
